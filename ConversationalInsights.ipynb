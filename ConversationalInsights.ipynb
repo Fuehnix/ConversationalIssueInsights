{
 "cells": [
  {
   "cell_type": "markdown",
   "metadata": {},
   "source": [
    "# Conversational Issue Insights\n",
    "## Goals:\n",
    "- Generate a synthetic dataset of chemical manufacturing issues in English and Chinese using OpenAI's library\n",
    "- Analyze database with a POC in jupyter notebook to establish topic modeling using LDA\n",
    "- Move code and database into something more production ready\n",
    "- Create a Power Bi dashboard to present the data\n",
    "- Add the topic modeling insights to the PowerBi Dashboard\n",
    "- Make the data conversational\n",
    "- if time permits, add BERTopic for better performance/insights.\n",
    "\n",
    "## Description:\n",
    "This project seeks to serve as a proof of concept for applying NLP and generative AI to user input data in the chemical manufacturing industry.  For this POC specifically, I will be analyzing user input for the purpose of \"predictive maintenance\""
   ]
  },
  {
   "cell_type": "code",
   "execution_count": 42,
   "id": "74c3f31a-a91b-45fa-8a47-13df49fe938a",
   "metadata": {},
   "outputs": [],
   "source": [
    "# Importing the libraries\n",
    "import string\n",
    "import time\n",
    "import nltk\n",
    "import sys\n",
    "import openai\n",
    "\n",
    "\n",
    "#install nltk stopwords\n",
    "#nltk.download('stopwords')\n",
    "\n",
    "from nltk.stem import WordNetLemmatizer \n",
    "from nltk.corpus import wordnet, stopwords\n",
    "from gensim.models.ldamodel import LdaModel as Lda\n",
    "# from gensim.utils import lemmatize\n",
    "from gensim.corpora import Dictionary, MmCorpus\n",
    "from io import StringIO\n",
    "\n",
    "\n",
    "import sys\n",
    "# sys.path.insert(0, '/path/to/directory')\n",
    "sys.path.insert(0, 'C:/Users/jacob/Programming/ConversationalIssueInsights')\n",
    "\n",
    "from config import config\n",
    "\n",
    "stopwords = stopwords.words('english')"
   ]
  },
  {
   "cell_type": "markdown",
   "metadata": {},
   "source": [
    "# Step 1: Generate Synthetic Data with OpenAI"
   ]
  },
  {
   "cell_type": "code",
   "execution_count": 22,
   "metadata": {},
   "outputs": [
    {
     "name": "stdout",
     "output_type": "stream",
     "text": [
      "As an AI, I don't have access to real-time databases or any external databases to retrieve live or historical data. However, I can generate a fictional example based on the requested format. Please use this as a placeholder and replace it with actual data from your records:\n",
      "\n",
      "'03/15/2023 08:00:00, B, Gamma, BRX-2, Evaporation Sector, Bromine_Concentration_Level, 26.5, Operational Range, Regular Monitoring, None, Bromine levels within expected operational range.' \n",
      "\n",
      "Remember to replace this with actual data from your maintenance reports for chemical manufacturing in the lithium and bromine industry.\n"
     ]
    }
   ],
   "source": [
    "import pandas as pd\n",
    "import openai\n",
    "\n",
    "# Set up OpenAI API credentials\n",
    "openai.api_key = config.openai_api_key\n",
    "client = OpenAI()\n",
    "\n",
    "# Define the fields for the database\n",
    "fields = ['datetime', 'shift', 'shiftengineer', 'plant', 'location', 'variable', 'value', 'type', 'AC', 'CA', 'Comment']\n",
    "\n",
    "# Generate synthetic data using OpenAI\n",
    "response = client.chat.completions.create(\n",
    "  model=\"gpt-4-1106-preview\",\n",
    "  messages=[\n",
    "    {\"role\": \"system\", \"content\": \"Retrieve data from spanish maintenace reports for chemical manufacturing workers in the lithium and bromine industry. The intention of this database is to log reports that can be used to take action on predictive maintenance. The data fields include 'datetime', 'shift', 'shiftengineer', 'plant', 'location', 'variable', 'value', 'type', 'AC', 'CA', 'Comment'. The 'datetime' field will be logged once per hour. 'shift' refers to A, B, or C shifts. 'shiftengineer' are anonymized with a greek letter. 'plant' refers to the specialized unit within the larger lithium and bromine mining and processing strategy. 'location' will be a section within the plant. 'variable' will generally be a technical term specific to that location, such as 'Saline_Purification_Temperature_Indicator_Controller_Process_Variable_Set_Point_Differential', 'value' will refer to the value of the variable, 'type' will refer to the classification or category of the variable being monitored, or the nature of the value recorded. It could be the type of specification or alarm that the value corresponds to, such as a specification limit, safety limit, operational range, or a performance indicator, etc.\"},\n",
    "    {\"role\": \"user\", \"content\": \"Provide the datetime, shift, shiftengineer, plant, location, variable, value, type, AC, CA, Comment for a random report row separated by commas.\"},\n",
    "    {\"role\": \"assistant\", \"content\": \"'11/26/2023 2:00:00, A, Alpha, LAN 1, Reactor Line 2, Saline_Purification_Temperature_Indicator_Controller_Process_Variable_Set_Point_Differential, -4.31321, Spec, Equipment Problem, Change_Set_Point_in_HMI_or_Terminal, HTX_does_not_reach_operating_temperature_enables_safety_measures'\"},\n",
    "    {\"role\": \"user\", \"content\": \"Please provide the datetime, shift, shiftengineer, plant, location, variable, value, type, AC, CA, Comment for a random report row separated by commas.\"}\n",
    "  ]\n",
    ")\n",
    "\n",
    "# Extract the generated data from the OpenAI response\n",
    "data = response.choices[0].message.content\n",
    "\n",
    "print(data)\n",
    "\n",
    "# Create a dataframe from the generated data\n",
    "# df = pd.DataFrame([row.split(',') for row in data], columns=fields)\n",
    "\n",
    "# Print the dataframe\n",
    "# print(df)"
   ]
  },
  {
   "cell_type": "code",
   "execution_count": 44,
   "metadata": {},
   "outputs": [
    {
     "name": "stdout",
     "output_type": "stream",
     "text": [
      "'2023-07-15 08:00:00, B, Gamma, LEX-3, Evaporation Unit 4, Pressure_Transmitter_Reading, 2.56, Operational, Routine_Check, Adjust_Valve_4B, Pressure_below_optimal_range'\n",
      "\n",
      "'2023-07-15 09:00:00, B, Gamma, BRX-2, Collection Basin A1, Bromine_Concentration_Level, 5.22, Safety, Emergency_Shutdown, Initiate_Containment_Protocol, Exceeds_maximum_allowable_concentration'\n",
      "\n",
      "'2023-07-15 10:00:00, B, Gamma, LIX-5, Separator Vessel 7, Vibration_Frequency_Output, 0.88, Performance, Asset_Optimization, Rebalance_Rotating_Equipment, Unusual_vibration_detected_indicating_possible_wear'\n"
     ]
    }
   ],
   "source": [
    "import pandas as pd\n",
    "import openai\n",
    "\n",
    "# Set up OpenAI API credentials\n",
    "openai.api_key = config.openai_api_key\n",
    "client = OpenAI()\n",
    "\n",
    "# Define the fields for the database\n",
    "fields = ['datetime', 'shift', 'shiftengineer', 'plant', 'location', 'variable', 'value', 'type', 'AC', 'CA', 'Comment']\n",
    "\n",
    "# Generate synthetic data using OpenAI\n",
    "response = client.chat.completions.create(\n",
    "  model=\"gpt-4-1106-preview\",\n",
    "  messages=[\n",
    "    {\"role\": \"system\", \"content\": \"You are a machine that retrieves spanish maintenace reports for chemical manufacturing workers in the lithium and bromine industry which were created as logs used to take action on predictive maintenance. The data fields include 'datetime', 'shift', 'shiftengineer', 'plant', 'location', 'variable', 'value', 'type', 'AC', 'CA', 'Comment'. The 'datetime' field will be logged once per hour. 'shift' refers to A, B, or C shifts. 'shiftengineer' are anonymized with a greek letter. 'plant' refers to the specialized unit within the larger lithium and bromine mining and processing strategy. 'location' will be a section within the plant. 'variable' will generally be a technical term specific to that location, such as 'Saline_Purification_Temperature_Indicator_Controller_Process_Variable_Set_Point_Differential', 'value' will refer to the value of the variable, 'type' will refer to the classification or category of the variable being monitored, or the nature of the value recorded. It could be the type of specification or alarm that the value corresponds to, such as a specification limit, safety limit, operational range, or a performance indicator, etc. You will always reply with a series of reports in csv format, with the fields 'datetime', 'shift', 'shiftengineer', 'plant', 'location', 'variable', 'value', 'type', 'AC', 'CA', 'Comment'.\"},\n",
    "    {\"role\": \"user\", \"content\": \"Provide the datetime, shift, shiftengineer, plant, location, variable, value, type, AC, CA, Comment for a random report row separated by commas.\"},\n",
    "    {\"role\": \"assistant\", \"content\": \"'11/26/2023 2:00:00, A, Alpha, LAN 1, Reactor Line 2, Saline_Purification_Temperature_Indicator_Controller_Process_Variable_Set_Point_Differential, -4.31321, Spec, Equipment Problem, Change_Set_Point_in_HMI_or_Terminal, HTX_does_not_reach_operating_temperature_enables_safety_measures'\"},\n",
    "    {\"role\": \"user\", \"content\": \"Please provide the datetime, shift, shiftengineer, plant, location, variable, value, type, AC, CA, Comment for 3 random report rows\"}\n",
    "  ]\n",
    ")\n",
    "\n",
    "# Extract the generated data from the OpenAI response\n",
    "data = response.choices[0].message.content\n",
    "print(data)\n",
    "\n"
   ]
  },
  {
   "cell_type": "code",
   "execution_count": 48,
   "metadata": {},
   "outputs": [
    {
     "name": "stdout",
     "output_type": "stream",
     "text": [
      "               datetime shift shiftengineer   plant              location  \\\n",
      "0  '2023-07-15 08:00:00     B         Gamma   LEX-3    Evaporation Unit 4   \n",
      "1  '2023-07-15 09:00:00     B         Gamma   BRX-2   Collection Basin A1   \n",
      "2  '2023-07-15 10:00:00     B         Gamma   LIX-5    Separator Vessel 7   \n",
      "\n",
      "                        variable  value          type                   AC  \\\n",
      "0   Pressure_Transmitter_Reading   2.56   Operational        Routine_Check   \n",
      "1    Bromine_Concentration_Level   5.22        Safety   Emergency_Shutdown   \n",
      "2     Vibration_Frequency_Output   0.88   Performance   Asset_Optimization   \n",
      "\n",
      "                               CA  \\\n",
      "0                 Adjust_Valve_4B   \n",
      "1   Initiate_Containment_Protocol   \n",
      "2    Rebalance_Rotating_Equipment   \n",
      "\n",
      "                                             Comment  \n",
      "0                      Pressure_below_optimal_range'  \n",
      "1           Exceeds_maximum_allowable_concentration'  \n",
      "2   Unusual_vibration_detected_indicating_possibl...  \n"
     ]
    }
   ],
   "source": [
    "convertedData = StringIO(data)\n",
    "# Create a dataframe from the generated data\n",
    "df = pd.read_csv(convertedData, sep=',', names=fields)\n",
    "# df = pd.DataFrame([row.split(',') for row in data], columns=fields)\n",
    "\n",
    "# Print the dataframe\n",
    "print(df)"
   ]
  }
 ],
 "metadata": {
  "kernelspec": {
   "display_name": "Python 3 (ipykernel)",
   "language": "python",
   "name": "python3"
  },
  "language_info": {
   "codemirror_mode": {
    "name": "ipython",
    "version": 3
   },
   "file_extension": ".py",
   "mimetype": "text/x-python",
   "name": "python",
   "nbconvert_exporter": "python",
   "pygments_lexer": "ipython3",
   "version": "3.10.11"
  }
 },
 "nbformat": 4,
 "nbformat_minor": 5
}
